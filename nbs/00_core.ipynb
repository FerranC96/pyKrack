{
 "cells": [
  {
   "attachments": {},
   "cell_type": "markdown",
   "metadata": {},
   "source": [
    "# core\n",
    "\n",
    "> This module contains basic functions for computing graph metrics and properties."
   ]
  },
  {
   "cell_type": "code",
   "execution_count": null,
   "metadata": {},
   "outputs": [],
   "source": [
    "#| default_exp core"
   ]
  },
  {
   "cell_type": "code",
   "execution_count": null,
   "metadata": {},
   "outputs": [],
   "source": [
    "#| hide\n",
    "from nbdev.showdoc import *\n",
    "import os, pandas as pd, numpy as np, networkx as nx"
   ]
  },
  {
   "cell_type": "code",
   "execution_count": null,
   "metadata": {},
   "outputs": [
    {
     "name": "stdout",
     "output_type": "stream",
     "text": [
      "The autoreload extension is already loaded. To reload it, use:\n",
      "  %reload_ext autoreload\n"
     ]
    }
   ],
   "source": [
    "%load_ext autoreload\n",
    "%autoreload 2"
   ]
  },
  {
   "attachments": {},
   "cell_type": "markdown",
   "metadata": {},
   "source": [
    "This wrapper function spits out some basic graph properties of a NetworkX graph object.\n",
    "We can use it to conveniently explore the different graphs on which to compute hierarchy scores."
   ]
  },
  {
   "cell_type": "code",
   "execution_count": null,
   "metadata": {},
   "outputs": [],
   "source": [
    "#| export\n",
    "def graph_properties(G):\n",
    "    \"\"\"\n",
    "    Return the properties of a NetworkX graph.\n",
    "    \n",
    "    Parameters\n",
    "    ----------\n",
    "    G\n",
    "        NetworkX graph\n",
    "        \n",
    "    Returns\n",
    "    -------\n",
    "    properties : str\n",
    "        Concatenated string with number of edges and of nodes, the average degree and the graph's density\n",
    "    \"\"\"\n",
    "\n",
    "    import networkx as nx # Be mindful of scoping!\n",
    "\n",
    "    if not isinstance(G, nx.Graph):\n",
    "        raise ValueError(\"Make sure the input is a NetworkX graph!\")\n",
    "\n",
    "    properties = f\"Edges:{G.number_of_edges()}, Nodes:{G.number_of_nodes()}, Avg Degree:{sum(dict(G.degree()).values())/G.number_of_nodes()}, Density:{nx.density(G)}\"\n",
    "\n",
    "    return properties"
   ]
  },
  {
   "cell_type": "code",
   "execution_count": null,
   "metadata": {},
   "outputs": [
    {
     "data": {
      "text/markdown": [
       "---\n",
       "\n",
       "[source](https://github.com/FerranC96/pykrack/blob/main/pykrack/core.py#L7){target=\"_blank\" style=\"float:right; font-size:smaller\"}\n",
       "\n",
       "### graph_properties\n",
       "\n",
       ">      graph_properties (G)\n",
       "\n",
       "Return the properties of a NetworkX graph.\n",
       "\n",
       "|    | **Type** | **Details** |\n",
       "| -- | -------- | ----------- |\n",
       "| G |  | NetworkX graph |\n",
       "| **Returns** | **str** | **Using NetworkX functions, returns number of edges and of nodes, the average degree and the graph's density** |"
      ],
      "text/plain": [
       "---\n",
       "\n",
       "[source](https://github.com/FerranC96/pykrack/blob/main/pykrack/core.py#L7){target=\"_blank\" style=\"float:right; font-size:smaller\"}\n",
       "\n",
       "### graph_properties\n",
       "\n",
       ">      graph_properties (G)\n",
       "\n",
       "Return the properties of a NetworkX graph.\n",
       "\n",
       "|    | **Type** | **Details** |\n",
       "| -- | -------- | ----------- |\n",
       "| G |  | NetworkX graph |\n",
       "| **Returns** | **str** | **Using NetworkX functions, returns number of edges and of nodes, the average degree and the graph's density** |"
      ]
     },
     "execution_count": null,
     "metadata": {},
     "output_type": "execute_result"
    }
   ],
   "source": [
    "show_doc(graph_properties)"
   ]
  },
  {
   "attachments": {},
   "cell_type": "markdown",
   "metadata": {},
   "source": [
    "Let's test it on a simple directed graph.\n",
    "\n",
    "First we wil define the graph and visualise it using [Graphviz](https://quarto.org/docs/authoring/diagrams.html#graphviz)"
   ]
  },
  {
   "cell_type": "code",
   "execution_count": null,
   "metadata": {},
   "outputs": [],
   "source": [
    "G1 = nx.DiGraph([(1, 2), (2, 3), (1, 5), (2, 4), (4, 6), (5, 6), (3, 1)])"
   ]
  },
  {
   "attachments": {},
   "cell_type": "markdown",
   "metadata": {},
   "source": [
    "<!-- Need to use digraph for directed graphs! -->\n",
    "```{dot}\n",
    "digraph G {\n",
    "  1 -> 2;\n",
    "  2 -> 3;\n",
    "  1 -> 5;\n",
    "  2 -> 4;\n",
    "  4 -> 6;\n",
    "  5 -> 6;\n",
    "  3 -> 1;\n",
    "}\n",
    "```"
   ]
  },
  {
   "attachments": {},
   "cell_type": "markdown",
   "metadata": {},
   "source": [
    "<!-- nbdev supports most Quarto features.  We encourage you to read the [Quarto documentation](https://quarto.org/) to discover all the features available to you. For example, this is how you can [incorporate mermaid charts](https://quarto.org/docs/authoring/diagrams.html):\n",
    "\n",
    "```{mermaid}\n",
    "flowchart LR\n",
    "  A[Hard edge] --> B(Round edge)\n",
    "  B --> C{Decision}\n",
    "  C --> D[Result one]\n",
    "  C --> E[Result two]\n",
    "```\n",
    "\n",
    "Here is another example of using [Graphviz](https://quarto.org/docs/authoring/diagrams.html#graphviz):\n",
    "\n",
    "\n",
    "\n",
    "It is worth taking a look at the documentation for [figures](https://quarto.org/docs/authoring/figures.html), [callouts](https://quarto.org/docs/authoring/callouts.html), [markdown](https://quarto.org/docs/authoring/markdown-basics.html), [widgets](https://quarto.org/docs/interactive/widgets/jupyter.html), [layouts](https://quarto.org/docs/interactive/layout.html), [conditional content](https://quarto.org/docs/authoring/conditional.html) and [quarto extensions](https://quarto.org/docs/extensions/) to name a few useful things we have encountered. -->"
   ]
  },
  {
   "attachments": {},
   "cell_type": "markdown",
   "metadata": {},
   "source": [
    "And now we can print the output of `graph_properties`"
   ]
  },
  {
   "cell_type": "code",
   "execution_count": null,
   "metadata": {},
   "outputs": [
    {
     "name": "stdout",
     "output_type": "stream",
     "text": [
      "Edges:7, Nodes:6, Avg Degree:2.3333333333333335, Density:0.23333333333333334\n"
     ]
    }
   ],
   "source": [
    "print(graph_properties(G1))\n",
    "\n",
    "assert graph_properties(G1)==\"Edges:7, Nodes:6, Avg Degree:2.3333333333333335, Density:0.23333333333333334\""
   ]
  },
  {
   "attachments": {},
   "cell_type": "markdown",
   "metadata": {},
   "source": [
    "We can also check out some other hand-defined directed graphs, a digraph built from the OmniPath database or a NetworkX built-in graph."
   ]
  },
  {
   "cell_type": "code",
   "execution_count": null,
   "metadata": {},
   "outputs": [],
   "source": [
    "G2 = nx.DiGraph([(1, 2), (2, 3), (1, 5), (2, 4), (4, 6), (5, 6)])"
   ]
  },
  {
   "cell_type": "code",
   "execution_count": null,
   "metadata": {},
   "outputs": [],
   "source": [
    "G3 = nx.DiGraph([(1, 2), (4, 6)])"
   ]
  },
  {
   "cell_type": "code",
   "execution_count": null,
   "metadata": {},
   "outputs": [],
   "source": [
    "# Directed Graph from OmniPath\n",
    "#using the following link: https://omnipathdb.org/interactions?genesymbols=yes&fields=type&license=academic&directed=0\n",
    "#Gets us all interactions, no matter type nor undirected/vs directed\n",
    "omnidata = pd.read_csv(\"https://omnipathdb.org/interactions?genesymbols=yes&fields=type&license=academic&directed=1\", sep=\"\\t\")\n",
    "\n",
    "G4 = nx.from_pandas_edgelist(omnidata, source=\"source_genesymbol\", target=\"target_genesymbol\",edge_attr=\"type\", create_using=nx.DiGraph)"
   ]
  },
  {
   "cell_type": "code",
   "execution_count": null,
   "metadata": {},
   "outputs": [],
   "source": [
    "# Graph from Krackhardt's work on centrality metrics (Krackhardt, David 1990)\n",
    "G5 = nx.krackhardt_kite_graph()"
   ]
  },
  {
   "cell_type": "code",
   "execution_count": null,
   "metadata": {},
   "outputs": [
    {
     "name": "stdout",
     "output_type": "stream",
     "text": [
      "Edges:7, Nodes:6, Avg Degree:2.3333333333333335, Density:0.23333333333333334\n",
      "Edges:6, Nodes:6, Avg Degree:2.0, Density:0.2\n",
      "Edges:2, Nodes:4, Avg Degree:1.0, Density:0.16666666666666666\n",
      "Edges:91888, Nodes:9248, Avg Degree:19.8719723183391, Density:0.0010745091553119445\n",
      "Edges:18, Nodes:10, Avg Degree:3.6, Density:0.4\n"
     ]
    }
   ],
   "source": [
    "print(graph_properties(G1))\n",
    "print(graph_properties(G2))\n",
    "print(graph_properties(G3))\n",
    "print(graph_properties(G4))\n",
    "print(graph_properties(G5))"
   ]
  },
  {
   "cell_type": "code",
   "execution_count": null,
   "metadata": {},
   "outputs": [],
   "source": [
    "#| hide\n",
    "import nbdev; nbdev.nbdev_export()"
   ]
  }
 ],
 "metadata": {
  "kernelspec": {
   "display_name": "python3",
   "language": "python",
   "name": "python3"
  }
 },
 "nbformat": 4,
 "nbformat_minor": 4
}
