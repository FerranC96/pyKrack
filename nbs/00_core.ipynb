{
 "cells": [
  {
   "cell_type": "markdown",
   "metadata": {},
   "source": [
    "# core\n",
    "\n",
    "> Fill in a module description here"
   ]
  },
  {
   "attachments": {},
   "cell_type": "markdown",
   "metadata": {},
   "source": [
    "## Krackhardt OG approach\n",
    "\n",
    "From his OG paper:\n",
    "\n",
    "The graph hierarchy condition states that in a digraph D, for each pair of points where one (Pi) can reach another (Pj), the second (Pj) can't reach the first (Pi). \n",
    "For example, in a formal organization chart a high lvl employee can reach through the chain of command her subordinate's subordinate. If the formal organization if working \"properly\", this lower lvl employee can't simultaneously reach the high lvl employee.\n",
    "To measure the degree of hierarchy of digraph D, a new digraph Dr must be created. Dr is defined as the reachability digraph of D. Each point in D exists in Dr; moreover, the line (Pi,Pj) exists in Dr if and only if Pi can reach Pj in D. If D is graph hierarchic, then Dr will have no symmetric lines in it (i.e. if the line (Pi,Pj) exists in Dr then the line (Pj,Pi) does not).\n",
    "\n",
    "The degree of hierarchy then is defined as:\n",
    "\n",
    "    Graph Hierarchy = 1 - [V/MaxV]\n",
    "    Where:\n",
    "        V = Number of unordered pairs of points in Dr that are symmetrically linked\n",
    "        MaxV = Number of unordered pairs of points in Dr where Pi is linked to Pj or viceversa."
   ]
  },
  {
   "attachments": {},
   "cell_type": "markdown",
   "metadata": {},
   "source": [
    "**Definitions**:\n",
    "\n",
    "- Hierarchy degree: This a network-wide metric that determines how \"hierarchical\" a graph is.\n",
    "From https://doi.org/10.1186/s13059-015-0624-2:\n",
    "    The degree of hierarchy for a given for a given network is not well-defined concept. Ispolatov et al. [27] introduced the idea of dominant direction by minimizing the number of feedback links. While it is a proxy of hierarchical structure to a certain extent, the method does not provide a rigorous statistical confidence. Here, we define a metric to quantify the degree of hierarchy for a given hierarchical network, and then propose a new method called hierarchical score maximization (HSM) to infer the hierarchy of a directed network\n",
    "\n",
    "- Hierarchy metric (at node level): From sna package in R.\n",
    "    Hierarchy measures quantify the extent of asymmetry in a structure; the greater the extent of asym-\n",
    "    metry, the more hierarchical the structure is said to be. (This should not be confused with how\n",
    "    centralized the structure is, i.e., the extent to which centralities of vertex positions are highly con-\n",
    "    centrated.)\n",
    "They discuss and offer 2 different approaches:\n",
    "\n",
    "    - reciprocity: This setting returns one minus the dyadic reciprocity for each input graph (see\n",
    "    grecip)\n",
    "    - krackhardt: This setting returns the Krackhardt hierarchy score for each input graph. The\n",
    "    Krackhardt hierarchy is defined as the fraction of non-null dyads in the reachability graph\n",
    "    which are asymmetric. Thus, when no directed paths are reciprocated (e.g., in an in/outtree),\n",
    "    Krackhardt hierarchy is equal to 1; when all such paths are reciprocated, by contrast (e.g., in\n",
    "    a cycle or clique), the measure falls to 0.\n",
    "        - Hierarchy is one of four measures (connectedness, efficiency, hierarchy, and lubness)\n",
    "        suggested by Krackhardt for summarizing hierarchical structures. Each corresponds to one of\n",
    "        four axioms which are necessary and sufficient for the structure in question to be an outtree;\n",
    "        thus, the measures will be equal to 1 for a given graph iff that graph is an outtree. Deviations\n",
    "        from unity can be interpreted in terms of failure to satisfy one or more of the outtree conditions,\n",
    "        information which may be useful in classifying its structural properties.\n",
    "        Note that hierarchy is inherently density-constrained: as densities climb above 0.5, the proportion\n",
    "        of mutual dyads must (by the pigeonhole principle) increase rapidly, thereby reducing possibili-\n",
    "        ties for asymmetry. Thus, the interpretation of hierarchy scores should take density into account,\n",
    "        particularly if density is artifactual (e.g., due to a particular dichotomization procedure)\n",
    "    \n",
    "- Flow Hierarchy Score: Described in XXXX (paper). Implementation from the networkX package."
   ]
  },
  {
   "cell_type": "code",
   "execution_count": null,
   "metadata": {},
   "outputs": [],
   "source": [
    "import os, pandas as pd, numpy as np\n",
    "import networkx\n",
    "\n",
    "import rpy2, rpy2.situation\n",
    "from rpy2.robjects import r, pandas2ri\n",
    "from rpy2.robjects.packages import importr"
   ]
  },
  {
   "cell_type": "code",
   "execution_count": null,
   "metadata": {},
   "outputs": [],
   "source": [
    "# G = networkx.DiGraph([(1, 2), (2, 3), (1, 5), (2, 4), (4, 6), (5, 6), (3, 1)])"
   ]
  },
  {
   "cell_type": "code",
   "execution_count": null,
   "metadata": {},
   "outputs": [],
   "source": [
    "# #Graph from OmniPath\n",
    "\n",
    "# G = networkx.from_pandas_edgelist(pd.read_csv(f\"{data_dir}/omnipath_curated_interactions.csv\", index_col=0), source='source_genesymbol', target='target_genesymbol', create_using=networkx.DiGraph)\n",
    "# G"
   ]
  },
  {
   "cell_type": "code",
   "execution_count": null,
   "metadata": {},
   "outputs": [],
   "source": [
    "# base = importr(\"base\")\n",
    "# sna = importr(\"sna\")\n",
    "\n",
    "# krackhardt_score = sna.hierarchy(networkx.to_numpy_array(G), measure=\"krackhardt\")\n",
    "# print(sna.hierarchy(networkx.to_numpy_array(networkx.DiGraph(G)), measure=\"krackhardt\"))\n",
    "# print(krackhardt_score)"
   ]
  },
  {
   "cell_type": "code",
   "execution_count": null,
   "metadata": {},
   "outputs": [],
   "source": [
    "# networkx.flow_hierarchy(G)"
   ]
  },
  {
   "cell_type": "code",
   "execution_count": null,
   "metadata": {},
   "outputs": [],
   "source": [
    "# diG = networkx.DiGraph(G)\n",
    "\n",
    "# #First, compute reachability graph\n",
    "\n",
    "# # #Manual computation is very slow (iterating through all node pairs)\n",
    "# # Dr = networkx.DiGraph()\n",
    "# # Dr.add_nodes_from(diG.nodes())\n",
    "# # #iterate on node pairs frm diG\n",
    "# # for u in diG.nodes():\n",
    "# #     for v in diG.nodes():\n",
    "# #         if networkx.has_path(diG, u, v):\n",
    "# #             Dr.add_edge(u,v)\n",
    "\n",
    "# #Transitive closure of graph is a graoh that contains an edge (u,v) if there is a path from u to v in the original graph\n",
    "# Dr = networkx.transitive_closure(diG, reflexive=None)\n",
    "\n",
    "# # Count the number of non-null dyads in TC that are asymmetric\n",
    "# asymmetric_dyads = 0\n",
    "# non_null_dyads = 0\n",
    "\n",
    "# n = len(Dr.nodes())\n",
    "\n",
    "# for i in Dr.nodes():\n",
    "#     for j in Dr.nodes():\n",
    "#         if Dr.has_edge(i,j) or Dr.has_edge(j,i):\n",
    "#             non_null_dyads += 1\n",
    "#             if Dr.has_edge(i,j) != Dr.has_edge(j,i):\n",
    "#                 asymmetric_dyads += 1\n",
    "\n",
    "            \n",
    "# # Compute and return the Krackhardt hierarchy score\n",
    "# if non_null_dyads == 0:\n",
    "#     print(\"fuck\")\n",
    "\n",
    "# asymmetric_dyads / non_null_dyads"
   ]
  },
  {
   "cell_type": "code",
   "execution_count": null,
   "metadata": {},
   "outputs": [],
   "source": [
    "#| default_exp core"
   ]
  },
  {
   "cell_type": "code",
   "execution_count": null,
   "metadata": {},
   "outputs": [],
   "source": [
    "#| hide\n",
    "from nbdev.showdoc import *"
   ]
  },
  {
   "cell_type": "code",
   "execution_count": null,
   "metadata": {},
   "outputs": [],
   "source": [
    "#| export\n",
    "def foo(): pass"
   ]
  },
  {
   "cell_type": "code",
   "execution_count": null,
   "metadata": {},
   "outputs": [],
   "source": [
    "#| hide\n",
    "import nbdev; nbdev.nbdev_export()"
   ]
  }
 ],
 "metadata": {
  "kernelspec": {
   "display_name": "python3",
   "language": "python",
   "name": "python3"
  }
 },
 "nbformat": 4,
 "nbformat_minor": 4
}
