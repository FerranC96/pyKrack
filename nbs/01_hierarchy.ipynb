{
 "cells": [
  {
   "attachments": {},
   "cell_type": "markdown",
   "metadata": {},
   "source": [
    "# Hierarchy Scores\n",
    "\n",
    "> This module contains a Python implementation of the Krackhardt hierarchy score."
   ]
  },
  {
   "cell_type": "code",
   "execution_count": null,
   "metadata": {},
   "outputs": [],
   "source": [
    "#| default_exp hierarchy"
   ]
  },
  {
   "cell_type": "code",
   "execution_count": null,
   "metadata": {},
   "outputs": [],
   "source": [
    "#| hide\n",
    "from nbdev.showdoc import *\n",
    "import os, pandas as pd, numpy as np, networkx as nx\n",
    "from itertools import product\n",
    "\n",
    "import rpy2, rpy2.situation\n",
    "from rpy2.robjects import r, pandas2ri\n",
    "from rpy2.robjects.packages import importr\n",
    "\n",
    "from pykrack.utils import graph_properties"
   ]
  },
  {
   "attachments": {},
   "cell_type": "markdown",
   "metadata": {},
   "source": [
    "# Introduction\n",
    "\n",
    "Biological signaling can be modeled as a directed network, where nodes represent genes/proteins and edges represent signaling interactions. \n",
    "\n",
    "The hierarchy of such a network can be quantified using various metrics, including the Krackhardt hierarchy score. This score measures the degree to which the network exhibits a perfect hierarchy, with higher scores indicating greater hierarchy. \n",
    "\n",
    "\n",
    "In R the `sna` package presents methods to compute graph hierarchy including Krackhardt's score (defined as $A/MaxV$ where $A$ is the number of unordered pairs of points in Dr that are asymmetrically linked), and there are other hierarchy scores implemented in Python such as *Flow Hierarchy Score* [Luo and Magee 2011](https://doi.org/10.1002/cplx.20368).\n",
    "However, despite its utility, there is currently no native implementation of the Krackhardt hierarchy score in Python. "
   ]
  },
  {
   "attachments": {},
   "cell_type": "markdown",
   "metadata": {},
   "source": [
    "## Krackhardt hierarchy score\n",
    "\n",
    "As defined in *Krackhardt, David. (1994). Graph Theoretical Dimensions of Informal Organization. Computational Organization Theory. 89*. \n",
    "\n",
    "    The graph hierarchy condition states that in a digraph D, for each pair of points where one (Pi) can reach another (Pj), the second (Pj) can't reach the first (Pi). \n",
    "    For example, in a formal organization chart a high lvl employee can reach through the chain of command her subordinate's subordinate. If the formal organization is working \"properly\", this lower lvl employee can't simultaneously reach the high lvl employee.\n",
    "    To measure the degree of hierarchy of digraph D, a new digraph Dr must be created. Dr is defined as the reachability digraph of D. Each point in D exists in Dr; moreover, the line (Pi,Pj) exists in Dr if and only if Pi can reach Pj in D. If D is graph hierarchic, then Dr will have no symmetric lines in it (i.e. if the line (Pi,Pj) exists in Dr then the line (Pj,Pi) does not).\n",
    "\n",
    "The degree of hierarchy then is defined as:\n",
    "\n",
    "$$\n",
    "    Graph Hierarchy = 1 - [V/MaxV]\n",
    "$$\n",
    "Where\n",
    "    $V$ is the number of unordered pairs of points in Dr that are symmetrically linked\n",
    "    , and $MaxV$ the number of unordered pairs of points in Dr where Pi is linked to Pj or viceversa."
   ]
  },
  {
   "attachments": {},
   "cell_type": "markdown",
   "metadata": {},
   "source": [
    "<!-- **Definitions**:\n",
    "\n",
    "- Hierarchy degree: This a network-wide metric that determines how \"hierarchical\" a graph is.\n",
    "From https://doi.org/10.1186/s13059-015-0624-2:\n",
    "    The degree of hierarchy for a given for a given network is not well-defined concept. Ispolatov et al. [27] introduced the idea of dominant direction by minimizing the number of feedback links. While it is a proxy of hierarchical structure to a certain extent, the method does not provide a rigorous statistical confidence. Here, we define a metric to quantify the degree of hierarchy for a given hierarchical network, and then propose a new method called hierarchical score maximization (HSM) to infer the hierarchy of a directed network\n",
    "\n",
    "- Hierarchy metric (at node level): From sna package in R.\n",
    "    Hierarchy measures quantify the extent of asymmetry in a structure; the greater the extent of asym-\n",
    "    metry, the more hierarchical the structure is said to be. (This should not be confused with how\n",
    "    centralized the structure is, i.e., the extent to which centralities of vertex positions are highly con-\n",
    "    centrated.)\n",
    "They discuss and offer 2 different approaches:\n",
    "\n",
    "    - reciprocity: This setting returns one minus the dyadic reciprocity for each input graph (see\n",
    "    grecip)\n",
    "    - krackhardt: This setting returns the Krackhardt hierarchy score for each input graph. The\n",
    "    Krackhardt hierarchy is defined as the fraction of non-null dyads in the reachability graph\n",
    "    which are asymmetric. Thus, when no directed paths are reciprocated (e.g., in an in/outtree),\n",
    "    Krackhardt hierarchy is equal to 1; when all such paths are reciprocated, by contrast (e.g., in\n",
    "    a cycle or clique), the measure falls to 0.\n",
    "        - Hierarchy is one of four measures (connectedness, efficiency, hierarchy, and lubness)\n",
    "        suggested by Krackhardt for summarizing hierarchical structures. Each corresponds to one of\n",
    "        four axioms which are necessary and sufficient for the structure in question to be an outtree;\n",
    "        thus, the measures will be equal to 1 for a given graph iff that graph is an outtree. Deviations\n",
    "        from unity can be interpreted in terms of failure to satisfy one or more of the outtree conditions,\n",
    "        information which may be useful in classifying its structural properties.\n",
    "        Note that hierarchy is inherently density-constrained: as densities climb above 0.5, the proportion\n",
    "        of mutual dyads must (by the pigeonhole principle) increase rapidly, thereby reducing possibili-\n",
    "        ties for asymmetry. Thus, the interpretation of hierarchy scores should take density into account,\n",
    "        particularly if density is artifactual (e.g., due to a particular dichotomization procedure)\n",
    "    \n",
    "- Flow Hierarchy Score: Described in XXXX (paper). Implementation from the networkX package. -->"
   ]
  },
  {
   "cell_type": "code",
   "execution_count": null,
   "metadata": {},
   "outputs": [
    {
     "name": "stdout",
     "output_type": "stream",
     "text": [
      "\u001b[1mrpy2 version:\u001b[0m\n",
      "3.5.11\n",
      "\u001b[1mPython version:\u001b[0m\n",
      "3.10.12 | packaged by conda-forge | (main, Jun 23 2023, 22:39:40) [Clang 15.0.7 ]\n",
      "\u001b[1mLooking for R's HOME:\u001b[0m\n",
      "    Environment variable R_HOME: /Users/ferran/miniconda3/envs/pykrack/lib/R\n",
      "    Calling `R RHOME`: /Users/ferran/miniconda3/envs/pykrack/lib/R\n",
      "    Environment variable R_LIBS_USER: None\n",
      "\u001b[1mR's additions to LD_LIBRARY_PATH:\u001b[0m\n",
      "/usr/local/lib/R/library/stats/libs/:/usr/local/lib/R/library/stats/libs/\n",
      "\u001b[1mR version:\u001b[0m\n",
      "    In the PATH: R version 4.3.1 (2023-06-16) -- \"Beagle Scouts\"\n",
      "    Loading R library from rpy2: OK\n",
      "\u001b[1mAdditional directories to load R packages from:\u001b[0m\n",
      "None\n",
      "\u001b[1mC extension compilation:\u001b[0m\n",
      "  include:\n",
      "  ['/Users/ferran/miniconda3/envs/pykrack/lib/R/include']\n",
      "  libraries:\n",
      "  ['R', 'pcre2-8', 'lzma', 'bz2', 'z', 'dl', 'm', 'iconv', 'icuuc', 'icui18n']\n",
      "  library_dirs:\n",
      "  ['/Users/ferran/miniconda3/envs/pykrack/lib', '/Users/ferran/miniconda3/envs/pykrack/lib/R/lib', '/Users/ferran/miniconda3/envs/pykrack/lib']\n",
      "  extra_compile_args:\n",
      "  ['-std=c99']\n",
      "  extra_link_args:\n",
      "  ['-fopenmp', '-Wl,-dead_strip_dylibs', '-Wl,-pie', '-Wl,-headerpad_max_install_names', '-Wl,-dead_strip_dylibs', '-Wl,-rpath,/Users/ferran/miniconda3/envs/pykrack/lib']\n",
      "Directory for the R shared library:\n",
      "lib\n",
      "\u001b[1mCFFI extension type\u001b[0m\n",
      "  Environment variable: RPY2_CFFI_MODE\n",
      "  Value: CFFI_MODE.ANY\n",
      "  ABI: PRESENT\n",
      "  API: PRESENT\n"
     ]
    }
   ],
   "source": [
    "for i in rpy2.situation.iter_info(): # Print Rpy2 info\n",
    "    print(i)\n",
    "\n",
    "pandas2ri.activate()"
   ]
  },
  {
   "cell_type": "code",
   "execution_count": null,
   "metadata": {},
   "outputs": [],
   "source": [
    "#| export\n",
    "def compute_hierarchy(G, metric=\"pykrack\"):\n",
    "    \"\"\"\n",
    "    Compute one of the possible hierarchy scores\n",
    "    \n",
    "    Parameters\n",
    "    ----------\n",
    "    G\n",
    "        Directed NetworkX graph\n",
    "    metric : str\n",
    "        Type of hierarchy metric to compute. Accepted types are:\n",
    "        'pykrack' for this module's implementation of the Krackhardt score.\n",
    "        'rsnakrack' for the sna implementation in R.\n",
    "        'hierarchy_flow' for the Luo and Magee 2011 as implemented in the NetworkX package.\n",
    "\n",
    "    Returns\n",
    "    -------\n",
    "    score : float\n",
    "        One of the possible hierarchy scores\n",
    "    \"\"\"\n",
    "    \n",
    "    import networkx as nx # Be mindful of scoping!\n",
    "    from itertools import product\n",
    "\n",
    "    #Ensure Graph is DirectedGraph\n",
    "    if not G.is_directed():\n",
    "        raise Exception\n",
    "    #Ensure Graph is of DiGraph() format\n",
    "    G = nx.DiGraph(G)\n",
    "\n",
    "    if metric == \"pykrack\": #Python implementation\n",
    "        #Compute transitive closure of graph to get the reachability graph\n",
    "            #[contains an edge (i,j) if there is a path from i to j in the original graph]\n",
    "        acyclic = 0\n",
    "        try:\n",
    "            nx.find_cycle(G)\n",
    "        except:\n",
    "            print(\"Acyclic graph\")\n",
    "            acyclic = 1\n",
    "        if acyclic == 1:\n",
    "            Gr = nx.transitive_closure_dag(G)\n",
    "        else:\n",
    "            Gr = nx.transitive_closure(G, reflexive=None)\n",
    "        symmetric_dyads = 0\n",
    "        non_null_dyads = 0\n",
    "        n = len(Gr.nodes())\n",
    "        #Count the number of non-null symmetric dyads\n",
    "        for pair in product(Gr.nodes(), Gr.nodes()):\n",
    "            if Gr.has_edge(pair[0],pair[1]) or Gr.has_edge(pair[1],pair[0]): #Non-null dyad\n",
    "                non_null_dyads+=1\n",
    "                if  Gr.has_edge(pair[0],pair[1]) == Gr.has_edge(pair[1],pair[0]): #Symmetric!\n",
    "                    symmetric_dyads+=1\n",
    "        #Raise exception if graph has no edges!\n",
    "        if non_null_dyads == 0:\n",
    "            raise Exception\n",
    "        score = 1 - (symmetric_dyads / non_null_dyads)\n",
    "    \n",
    "    elif metric == \"rsnakrack\": #R implementation from the sna package\n",
    "        #Be wary of scoping again!\n",
    "        from rpy2.robjects.packages import importr\n",
    "\n",
    "        try:\n",
    "            base = importr(\"base\")\n",
    "            sna = importr(\"sna\")\n",
    "            score = sna.hierarchy(nx.to_numpy_array(G), measure=\"krackhardt\")[0]\n",
    "        except:\n",
    "            print(\"R package sna was not found. Please install manually!\")\n",
    "            print(\"Computing hierarchy flow instead\")\n",
    "            snafail_flag = 1\n",
    "            score = nx.flow_hierarchy(G)\n",
    "    \n",
    "    elif metric == \"hierarchy_flow\": #Networkx's hierarchy flow implementation\n",
    "        score = nx.flow_hierarchy(G)\n",
    "\n",
    "    # elif metric == \"all\": #This will eventually return a dict with all metrics\n",
    "\n",
    "    else: # metric argument broken\n",
    "        raise Exception\n",
    "\n",
    "\n",
    "\n",
    "    return score\n"
   ]
  },
  {
   "cell_type": "code",
   "execution_count": null,
   "metadata": {},
   "outputs": [
    {
     "data": {
      "text/markdown": [
       "---\n",
       "\n",
       "[source](https://github.com/FerranC96/pykrack/blob/main/pykrack/hierarchy.py#L7){target=\"_blank\" style=\"float:right; font-size:smaller\"}\n",
       "\n",
       "### compute_hierarchy\n",
       "\n",
       ">      compute_hierarchy (G, metric='pykrack')\n",
       "\n",
       "Compute one of the possible hierarchy scores\n",
       "\n",
       "|    | **Type** | **Default** | **Details** |\n",
       "| -- | -------- | ----------- | ----------- |\n",
       "| G |  |  | Directed NetworkX graph |\n",
       "| metric | str | pykrack | Type of hierarchy metric to compute. Accepted types are:<br>'pykrack' for this module's implementation of the Krackhardt score.<br>'rsnakrack' for the sna implementation in R.<br>'hierarchy_flow' for the Luo and Magee 2011 as implemented in the NetworkX package. |\n",
       "| **Returns** | **float** |  | **One of the possible hierarchy scores** |"
      ],
      "text/plain": [
       "---\n",
       "\n",
       "[source](https://github.com/FerranC96/pykrack/blob/main/pykrack/hierarchy.py#L7){target=\"_blank\" style=\"float:right; font-size:smaller\"}\n",
       "\n",
       "### compute_hierarchy\n",
       "\n",
       ">      compute_hierarchy (G, metric='pykrack')\n",
       "\n",
       "Compute one of the possible hierarchy scores\n",
       "\n",
       "|    | **Type** | **Default** | **Details** |\n",
       "| -- | -------- | ----------- | ----------- |\n",
       "| G |  |  | Directed NetworkX graph |\n",
       "| metric | str | pykrack | Type of hierarchy metric to compute. Accepted types are:<br>'pykrack' for this module's implementation of the Krackhardt score.<br>'rsnakrack' for the sna implementation in R.<br>'hierarchy_flow' for the Luo and Magee 2011 as implemented in the NetworkX package. |\n",
       "| **Returns** | **float** |  | **One of the possible hierarchy scores** |"
      ]
     },
     "execution_count": null,
     "metadata": {},
     "output_type": "execute_result"
    }
   ],
   "source": [
    "show_doc(compute_hierarchy)"
   ]
  },
  {
   "cell_type": "code",
   "execution_count": null,
   "metadata": {},
   "outputs": [],
   "source": [
    "G1 = nx.DiGraph([(1, 2), (2, 3), (1, 5), (2, 4), (4, 6), (5, 6), (3, 1)])"
   ]
  },
  {
   "cell_type": "code",
   "execution_count": null,
   "metadata": {},
   "outputs": [],
   "source": [
    "G2 = nx.DiGraph([(1, 2), (2, 3), (1, 5), (2, 4), (4, 6), (5, 6)])"
   ]
  },
  {
   "cell_type": "code",
   "execution_count": null,
   "metadata": {},
   "outputs": [],
   "source": [
    "G3 = nx.DiGraph([(1, 2), (4, 6)])"
   ]
  },
  {
   "cell_type": "code",
   "execution_count": null,
   "metadata": {},
   "outputs": [],
   "source": [
    "#Graph from OmniPath\n",
    "#using the following link: https://omnipathdb.org/interactions?genesymbols=yes&fields=type&license=academic&directed=0\n",
    "#Gets us all interactions, no matter type nor undirected/vs directed\n",
    "omnidata = pd.read_csv(\"https://omnipathdb.org/interactions?genesymbols=yes&fields=type&license=academic&directed=1\", sep=\"\\t\")\n",
    "\n",
    "G4 = nx.from_pandas_edgelist(omnidata, source=\"source_genesymbol\", target=\"target_genesymbol\",edge_attr=\"type\", create_using=nx.DiGraph)"
   ]
  },
  {
   "cell_type": "code",
   "execution_count": null,
   "metadata": {},
   "outputs": [
    {
     "name": "stdout",
     "output_type": "stream",
     "text": [
      "Edges:7, Nodes:6, Avg Degree:2.3333333333333335, Density:0.23333333333333334\n"
     ]
    }
   ],
   "source": [
    "G = G1\n",
    "\n",
    "print(graph_properties(G))"
   ]
  },
  {
   "attachments": {},
   "cell_type": "markdown",
   "metadata": {},
   "source": [
    "Using `product` from `itertools` is around 4 times faster when iterating through the nodes of the Omnipath graph."
   ]
  },
  {
   "cell_type": "code",
   "execution_count": null,
   "metadata": {},
   "outputs": [],
   "source": [
    "# %%time\n",
    "# countlist = []\n",
    "# for i in G.nodes():\n",
    "#     for j in G.nodes():\n",
    "#         pair = [i,j]\n",
    "#         countlist.append(pair)\n",
    "\n",
    "# print(len(countlist))"
   ]
  },
  {
   "cell_type": "code",
   "execution_count": null,
   "metadata": {},
   "outputs": [],
   "source": [
    "# %%time\n",
    "# countlist = []\n",
    "# for pair in product(G.nodes(), G.nodes()):\n",
    "#     countlist.append(pair)\n",
    "\n",
    "# print(len(countlist))"
   ]
  },
  {
   "cell_type": "code",
   "execution_count": null,
   "metadata": {},
   "outputs": [
    {
     "name": "stdout",
     "output_type": "stream",
     "text": [
      "CPU times: user 232 µs, sys: 22 µs, total: 254 µs\n",
      "Wall time: 257 µs\n"
     ]
    },
    {
     "data": {
      "text/plain": [
       "0.7857142857142857"
      ]
     },
     "execution_count": null,
     "metadata": {},
     "output_type": "execute_result"
    }
   ],
   "source": [
    "%%time\n",
    "\n",
    "compute_hierarchy(G, metric=\"pykrack\")"
   ]
  },
  {
   "cell_type": "code",
   "execution_count": null,
   "metadata": {},
   "outputs": [
    {
     "name": "stdout",
     "output_type": "stream",
     "text": [
      "CPU times: user 972 ms, sys: 103 ms, total: 1.08 s\n",
      "Wall time: 1.16 s\n"
     ]
    },
    {
     "data": {
      "text/plain": [
       "0.7857142857142857"
      ]
     },
     "execution_count": null,
     "metadata": {},
     "output_type": "execute_result"
    }
   ],
   "source": [
    "%%time\n",
    "\n",
    "compute_hierarchy(G, metric=\"rsnakrack\")"
   ]
  },
  {
   "cell_type": "code",
   "execution_count": null,
   "metadata": {},
   "outputs": [
    {
     "name": "stdout",
     "output_type": "stream",
     "text": [
      "CPU times: user 323 µs, sys: 19 µs, total: 342 µs\n",
      "Wall time: 349 µs\n"
     ]
    },
    {
     "data": {
      "text/plain": [
       "0.5714285714285714"
      ]
     },
     "execution_count": null,
     "metadata": {},
     "output_type": "execute_result"
    }
   ],
   "source": [
    "%%time\n",
    "\n",
    "compute_hierarchy(G, metric=\"hierarchy_flow\")"
   ]
  },
  {
   "cell_type": "code",
   "execution_count": null,
   "metadata": {},
   "outputs": [],
   "source": [
    "#| hide\n",
    "try:\n",
    "    assert round(compute_hierarchy(G, metric=\"pykrack\"),2) == round(compute_hierarchy(G, metric=\"rsnakrack\"),2)\n",
    "except AssertionError:\n",
    "    print(\"WARNING: This message should only appear when the R package sna is not installed\")"
   ]
  },
  {
   "cell_type": "code",
   "execution_count": null,
   "metadata": {},
   "outputs": [],
   "source": [
    "#| hide\n",
    "import nbdev; nbdev.nbdev_export()"
   ]
  }
 ],
 "metadata": {
  "kernelspec": {
   "display_name": "python3",
   "language": "python",
   "name": "python3"
  }
 },
 "nbformat": 4,
 "nbformat_minor": 4
}
