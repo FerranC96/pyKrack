{
 "cells": [
  {
   "cell_type": "code",
   "execution_count": null,
   "metadata": {},
   "outputs": [],
   "source": [
    "#| hide\n",
    "from nbdev.showdoc import show_doc\n",
    "from pykrack.core import *\n",
    "from pykrack.hierarchy import *"
   ]
  },
  {
   "cell_type": "markdown",
   "metadata": {},
   "source": [
    "# pyKrack\n",
    "\n",
    "> Computing Krackhardt hierarchy score on netowrkX graphs"
   ]
  },
  {
   "cell_type": "markdown",
   "metadata": {},
   "source": [
    "This file will become your README and also the index of your documentation.\n",
    "\n",
    "THIS IS CLEARLY STILL A WORK IN PROGRESS PROJECT"
   ]
  },
  {
   "attachments": {},
   "cell_type": "markdown",
   "metadata": {},
   "source": [
    "## Install"
   ]
  },
  {
   "attachments": {},
   "cell_type": "markdown",
   "metadata": {},
   "source": [
    "Due to the comparisons with the r package sna We recommend using conda. Create an environment using the environment.yml file, load it and install/run the package."
   ]
  },
  {
   "attachments": {},
   "cell_type": "markdown",
   "metadata": {},
   "source": [
    "Alternatively pyKrack can also be isntalled using pip via the following command\n",
    "\n",
    "```sh\n",
    "pip install pyKrack\n",
    "```\n",
    "\n",
    "Then install the R dependencies listed in the conda environmnet.yml manually."
   ]
  },
  {
   "cell_type": "markdown",
   "metadata": {},
   "source": [
    "## How to use"
   ]
  },
  {
   "attachments": {},
   "cell_type": "markdown",
   "metadata": {},
   "source": [
    "Please see the core and hierarchy notebooks for more detailed explanations.\n",
    "\n",
    "**pyKrack** consists of one main function, `compute_hierarchy`."
   ]
  },
  {
   "cell_type": "code",
   "execution_count": null,
   "metadata": {},
   "outputs": [
    {
     "data": {
      "text/markdown": [
       "---\n",
       "\n",
       "[source](https://github.com/FerranC96/pykrack/blob/main/pykrack/hierarchy.py#LNone){target=\"_blank\" style=\"float:right; font-size:smaller\"}\n",
       "\n",
       "### compute_hierarchy\n",
       "\n",
       ">      compute_hierarchy (G, metric='pykrack')\n",
       "\n",
       "Compute one of the possible hierarchy scores\n",
       "\n",
       "|    | **Type** | **Default** | **Details** |\n",
       "| -- | -------- | ----------- | ----------- |\n",
       "| G |  |  | Directed NetworkX graph |\n",
       "| metric | str | pykrack | Type of hierarchy metric to compute. Accepted types are:<br>'pykrack' for this module's implementation of the Krackhardt score.<br>'rsnakrack' for the sna implementation in R.<br>'hierarchy_flow' for the Luo and Magee 2011 as implemented in the NetworkX package. |\n",
       "| **Returns** | **float** |  | **One of the possible hierarchy scores** |"
      ],
      "text/plain": [
       "---\n",
       "\n",
       "[source](https://github.com/FerranC96/pykrack/blob/main/pykrack/hierarchy.py#LNone){target=\"_blank\" style=\"float:right; font-size:smaller\"}\n",
       "\n",
       "### compute_hierarchy\n",
       "\n",
       ">      compute_hierarchy (G, metric='pykrack')\n",
       "\n",
       "Compute one of the possible hierarchy scores\n",
       "\n",
       "|    | **Type** | **Default** | **Details** |\n",
       "| -- | -------- | ----------- | ----------- |\n",
       "| G |  |  | Directed NetworkX graph |\n",
       "| metric | str | pykrack | Type of hierarchy metric to compute. Accepted types are:<br>'pykrack' for this module's implementation of the Krackhardt score.<br>'rsnakrack' for the sna implementation in R.<br>'hierarchy_flow' for the Luo and Magee 2011 as implemented in the NetworkX package. |\n",
       "| **Returns** | **float** |  | **One of the possible hierarchy scores** |"
      ]
     },
     "execution_count": null,
     "metadata": {},
     "output_type": "execute_result"
    }
   ],
   "source": [
    "show_doc(compute_hierarchy)"
   ]
  }
 ],
 "metadata": {
  "kernelspec": {
   "display_name": "python3",
   "language": "python",
   "name": "python3"
  }
 },
 "nbformat": 4,
 "nbformat_minor": 4
}
